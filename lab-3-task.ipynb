{
  "nbformat": 4,
  "nbformat_minor": 0,
  "metadata": {
    "colab": {
      "name": "Untitled0.ipynb",
      "provenance": [],
      "authorship_tag": "ABX9TyO8bU83khiUN8k8+3lmWzYt",
      "include_colab_link": true
    },
    "kernelspec": {
      "name": "python3",
      "display_name": "Python 3"
    },
    "language_info": {
      "name": "python"
    }
  },
  "cells": [
    {
      "cell_type": "markdown",
      "metadata": {
        "id": "view-in-github",
        "colab_type": "text"
      },
      "source": [
        "<a href=\"https://colab.research.google.com/github/aktaruzzamanjoti97/ApartmentProject/blob/master/lab-3-task.ipynb\" target=\"_parent\"><img src=\"https://colab.research.google.com/assets/colab-badge.svg\" alt=\"Open In Colab\"/></a>"
      ]
    },
    {
      "cell_type": "code",
      "metadata": {
        "id": "_vMM_8eDLX28"
      },
      "source": [
        ""
      ],
      "execution_count": null,
      "outputs": []
    },
    {
      "cell_type": "markdown",
      "metadata": {
        "id": "AHgwBN-ULc1n"
      },
      "source": [
        "**Simple To Do List**\n"
      ]
    },
    {
      "cell_type": "markdown",
      "metadata": {
        "id": "mwwInUdmMgGT"
      },
      "source": [
        ""
      ]
    },
    {
      "cell_type": "markdown",
      "metadata": {
        "id": "N5PRwINVMi6b"
      },
      "source": [
        ""
      ]
    },
    {
      "cell_type": "code",
      "metadata": {
        "id": "S8qNTzirLrlz"
      },
      "source": [
        "course_name = []\n",
        "course_code = []"
      ],
      "execution_count": 1,
      "outputs": []
    },
    {
      "cell_type": "code",
      "metadata": {
        "id": "3-6u55LgL3CT"
      },
      "source": [
        "  def navBar():\n",
        "  print(\"     This your dashboard for keep tracking of your semister course\")\n",
        "  print(\"|----------------------------------------------------------------------|\")\n",
        "  print(\"|-------------------------- Menu --------------------------------------|\")\n",
        "  print(\"|----------------------------------------------------------------------|\")\n",
        "  print(\"       Type 1 and press Enter for show your registerd course\")\n",
        "  print(\"              Type 2 and press Enter for Add course\")\n",
        "  print('             Type 3 and press Enter for remove course')\n",
        "\n",
        "navBar()\n",
        "show_your_registerd_course()"
      ],
      "execution_count": null,
      "outputs": []
    },
    {
      "cell_type": "markdown",
      "metadata": {
        "id": "DwQeAeZqMJBr"
      },
      "source": [
        "This your dashboard for keep tracking of your semister course\n",
        "|----------------------------------------------------------------------|\n",
        "|-------------------------- Menu --------------------------------------|\n",
        "|----------------------------------------------------------------------|\n",
        "       Type 1 and press Enter for show your registerd course\n",
        "              Type 2 and press Enter for Add course\n",
        "             Type 3 and press Enter for remove course\n",
        "\n",
        "No course in your list"
      ]
    },
    {
      "cell_type": "code",
      "metadata": {
        "id": "wyE01ZgZMEGL"
      },
      "source": [
        ""
      ],
      "execution_count": null,
      "outputs": []
    },
    {
      "cell_type": "code",
      "metadata": {
        "id": "If9pmvr1MKKE"
      },
      "source": [
        "def show_your_registerd_course():\n",
        "  print()\n",
        "  if len(course_code) == 0:\n",
        "    print(\"No course in your list\")\n",
        "  else:\n",
        "    print(\"\\nID ---  Course Name --- Course Code\")\n",
        "    for id, course in enumerate(course_name):\n",
        "      print(f\"{id+1} --- {course} --- {course_code[id]}\")"
      ],
      "execution_count": null,
      "outputs": []
    },
    {
      "cell_type": "code",
      "metadata": {
        "id": "YXJyTvwyMRa7"
      },
      "source": [
        "def add_course(code, name):\n",
        "  course_code.append(code)\n",
        "  course_name.append(name)\n",
        "  show_your_registerd_course()"
      ],
      "execution_count": null,
      "outputs": []
    },
    {
      "cell_type": "code",
      "metadata": {
        "id": "-x3qRPpWMVfr"
      },
      "source": [
        "def remove_course(index):\n",
        "  course_code.pop(index)\n",
        "  course_name.pop(index)\n",
        "  show_your_registerd_course()"
      ],
      "execution_count": null,
      "outputs": []
    },
    {
      "cell_type": "code",
      "metadata": {
        "id": "_zTgJVhvMZ-T"
      },
      "source": [
        "def main_page():\n",
        "  choice = int(input(\"Enter your choice: \"))\n",
        "  if choice == 1:\n",
        "    show_your_registerd_course()\n",
        "  elif choice == 2:\n",
        "    name = input(\"Enter course name: \")\n",
        "    code = input(\"Enter course code: \")\n",
        "    add_course(code, name)\n",
        "  elif choice == 3:\n",
        "    index = int(input(\"Enter course id: \"))\n",
        "    remove_course(index-1)\n",
        "  else:\n",
        "    print(\"Please insert a valid Input.\")\n",
        "    main_page()\n",
        "main_page()"
      ],
      "execution_count": null,
      "outputs": []
    },
    {
      "cell_type": "markdown",
      "metadata": {
        "id": "OM_5fw2gMdxL"
      },
      "source": [
        "Enter your choice: 2\n",
        "Enter course name: AI Lab\n",
        "Enter course code: CSE-413\n",
        "\n",
        "\n",
        "ID ---  Course Name --- Course Code\n",
        "1 --- AI Lab --- CSE-413"
      ]
    }
  ]
}